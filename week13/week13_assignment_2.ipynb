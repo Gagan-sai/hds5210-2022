{
 "cells": [
  {
   "cell_type": "markdown",
   "metadata": {
    "nbgrader": {
     "grade": false,
     "grade_id": "cell-fc1c39d0d6f8b82a",
     "locked": true,
     "schema_version": 1,
     "solution": false
    }
   },
   "source": [
    "# Week 13 Programming Assignment\n",
    "\n",
    "As you're working on identifying data for your final project, it's helpful to spend some time exploring your various data files.  For this week's assignment, I'd like you to take a few of the ideas from the the lectures, review assignment, and tonight's lecture to start exploring the data you plan to use for the final project.\n",
    "\n",
    "For the following activities, you can use just one of the data files that you've identified, or you can do the activities using different data files.  That's up to you.  Please describe what you're doing in a Markdown cell or in the comments of your code.  When you've completed the assignment, submit it as normal."
   ]
  },
  {
   "cell_type": "markdown",
   "metadata": {},
   "source": [
    "### 1. Basic Statistics\n",
    "\n",
    "Use Python to read in your data file and show many rows and columns your data has."
   ]
  },
  {
   "cell_type": "code",
   "execution_count": 1,
   "metadata": {},
   "outputs": [],
   "source": [
    "import pandas as pd\n",
    "copd = pd.read_csv('../copd_dataset.csv')"
   ]
  },
  {
   "cell_type": "code",
   "execution_count": 2,
   "metadata": {},
   "outputs": [
    {
     "data": {
      "text/plain": [
       "(101, 24)"
      ]
     },
     "execution_count": 2,
     "metadata": {},
     "output_type": "execute_result"
    }
   ],
   "source": [
    "# Number of rows and columns \n",
    "num_columns, num_rows = copd.shape\n",
    "copd.shape"
   ]
  },
  {
   "cell_type": "markdown",
   "metadata": {},
   "source": [
    "### 2. Data Diversity\n",
    "\n",
    "Use Python to identify how many unique values each column in your data has.  Use Python to identify which column has the greatest number of distinct values (aka the most diversity)?  If your data has a unique identifier (e.g. a person or visit or record ID) then find the column with the next most number of unique values."
   ]
  },
  {
   "cell_type": "code",
   "execution_count": 3,
   "metadata": {},
   "outputs": [
    {
     "data": {
      "text/plain": [
       "Unnamed: 0      101\n",
       "ID               97\n",
       "AGE              33\n",
       "PackHistory      48\n",
       "COPDSEVERITY      4\n",
       "MWT1             69\n",
       "MWT2             72\n",
       "MWT1Best         71\n",
       "FEV1             85\n",
       "FEV1PRED         51\n",
       "FVC              80\n",
       "FVCPRED          57\n",
       "CAT              30\n",
       "HAD              28\n",
       "SGRQ             89\n",
       "AGEquartiles      4\n",
       "copd              4\n",
       "gender            2\n",
       "smoking           2\n",
       "Diabetes          2\n",
       "muscular          2\n",
       "hypertension      2\n",
       "AtrialFib         2\n",
       "IHD               2\n",
       "dtype: int64"
      ]
     },
     "execution_count": 3,
     "metadata": {},
     "output_type": "execute_result"
    }
   ],
   "source": [
    "# Unique values in different columns\n",
    "copd.nunique()"
   ]
  },
  {
   "cell_type": "markdown",
   "metadata": {},
   "source": [
    "### 3. Data Redundancy\n",
    "\n",
    "Use Python to identify any columns in your data where the value for every row is the same.  For example, if you had a gender column and all the rows said 'M', then you would want to write the code that helped you determine that."
   ]
  },
  {
   "cell_type": "code",
   "execution_count": 4,
   "metadata": {},
   "outputs": [],
   "source": [
    "for index, column in enumerate(copd.columns):\n",
    "    unique_values = pd.unique(copd.iloc[:, index])\n",
    "    if len(unique_values) == 1:\n",
    "        # columns with only one unique entry\n",
    "        print(\"column: {} with redundant_value: {}\".format(column, unique_values[0]))"
   ]
  },
  {
   "cell_type": "markdown",
   "metadata": {},
   "source": [
    "### 4. Range of Values\n",
    "\n",
    "Your data almost certainly has some numeric columns that can be summed or averaged.  Create a histogram that shows the distribution of values for this column."
   ]
  },
  {
   "cell_type": "code",
   "execution_count": 5,
   "metadata": {},
   "outputs": [
    {
     "name": "stdout",
     "output_type": "stream",
     "text": [
      "40.18584158415842\n"
     ]
    }
   ],
   "source": [
    "# convert numerical column to float64\n",
    "copd[\"SGRQ\"] = copd[\"SGRQ\"].astype('float64')\n",
    "\n",
    "# average confidence limits\n",
    "avg_SGRQ = copd[\"SGRQ\"].mean()\n",
    "print(avg_SGRQ)"
   ]
  },
  {
   "cell_type": "code",
   "execution_count": 6,
   "metadata": {},
   "outputs": [
    {
     "data": {
      "text/plain": [
       "Text(0, 0.5, ' SGRQ ')"
      ]
     },
     "execution_count": 6,
     "metadata": {},
     "output_type": "execute_result"
    },
    {
     "data": {
      "image/png": "[encoded data removed]",
      "text/plain": [
       "<Figure size 432x288 with 1 Axes>"
      ]
     },
     "metadata": {
      "needs_background": "light"
     },
     "output_type": "display_data"
    }
   ],
   "source": [
    "#historgram betweek various Ages and corresponding SGRQ values\n",
    "\n",
    "plt = copd.plot(x = \"AGE\", y = \"SGRQ\", kind = \"hist\")\n",
    "plt.set_title(\"Varying SGRQ at different Ages\")\n",
    "plt.set_xlabel(\" AGE \")\n",
    "plt.set_ylabel(\" SGRQ \")"
   ]
  },
  {
   "cell_type": "markdown",
   "metadata": {},
   "source": [
    "### 5. Discussion\n",
    "\n",
    "Do any additional exploration of this data that you think may be interesting and include your code here.  Then go onto Slack and make a post about what you've observed.  Share your observation.  Share your code, if you like.  Share a screenshot of the data or a chart based on the data.\n",
    "\n",
    "Then comment on at least two other people's observations that they share on Slack.  (Use the reply as thread option in Slack to keep the conversation organized.)"
   ]
  },
  {
   "cell_type": "code",
   "execution_count": 7,
   "metadata": {},
   "outputs": [
    {
     "data": {
      "text/plain": [
       "24"
      ]
     },
     "execution_count": 7,
     "metadata": {},
     "output_type": "execute_result"
    }
   ],
   "source": [
    "column_count = len(copd.columns)\n",
    "column_count"
   ]
  },
  {
   "cell_type": "code",
   "execution_count": 8,
   "metadata": {},
   "outputs": [
    {
     "data": {
      "text/html": [
       "<div>\n",
       "<style scoped>\n",
       "    .dataframe tbody tr th:only-of-type {\n",
       "        vertical-align: middle;\n",
       "    }\n",
       "\n",
       "    .dataframe tbody tr th {\n",
       "        vertical-align: top;\n",
       "    }\n",
       "\n",
       "    .dataframe thead th {\n",
       "        text-align: right;\n",
       "    }\n",
       "</style>\n",
       "<table border=\"1\" class=\"dataframe\">\n",
       "  <thead>\n",
       "    <tr style=\"text-align: right;\">\n",
       "      <th></th>\n",
       "      <th>Unnamed: 0</th>\n",
       "      <th>ID</th>\n",
       "      <th>AGE</th>\n",
       "      <th>PackHistory</th>\n",
       "      <th>COPDSEVERITY</th>\n",
       "      <th>MWT1</th>\n",
       "      <th>MWT2</th>\n",
       "      <th>MWT1Best</th>\n",
       "      <th>FEV1</th>\n",
       "      <th>FEV1PRED</th>\n",
       "      <th>...</th>\n",
       "      <th>SGRQ</th>\n",
       "      <th>AGEquartiles</th>\n",
       "      <th>copd</th>\n",
       "      <th>gender</th>\n",
       "      <th>smoking</th>\n",
       "      <th>Diabetes</th>\n",
       "      <th>muscular</th>\n",
       "      <th>hypertension</th>\n",
       "      <th>AtrialFib</th>\n",
       "      <th>IHD</th>\n",
       "    </tr>\n",
       "  </thead>\n",
       "  <tbody>\n",
       "    <tr>\n",
       "      <th>0</th>\n",
       "      <td>1</td>\n",
       "      <td>58</td>\n",
       "      <td>77</td>\n",
       "      <td>60.0</td>\n",
       "      <td>SEVERE</td>\n",
       "      <td>120.0</td>\n",
       "      <td>120.0</td>\n",
       "      <td>120.0</td>\n",
       "      <td>1.21</td>\n",
       "      <td>36.0</td>\n",
       "      <td>...</td>\n",
       "      <td>69.55</td>\n",
       "      <td>4</td>\n",
       "      <td>3</td>\n",
       "      <td>1</td>\n",
       "      <td>2</td>\n",
       "      <td>1</td>\n",
       "      <td>0</td>\n",
       "      <td>0</td>\n",
       "      <td>1</td>\n",
       "      <td>0</td>\n",
       "    </tr>\n",
       "    <tr>\n",
       "      <th>1</th>\n",
       "      <td>2</td>\n",
       "      <td>57</td>\n",
       "      <td>79</td>\n",
       "      <td>50.0</td>\n",
       "      <td>MODERATE</td>\n",
       "      <td>165.0</td>\n",
       "      <td>176.0</td>\n",
       "      <td>176.0</td>\n",
       "      <td>1.09</td>\n",
       "      <td>56.0</td>\n",
       "      <td>...</td>\n",
       "      <td>44.24</td>\n",
       "      <td>4</td>\n",
       "      <td>2</td>\n",
       "      <td>0</td>\n",
       "      <td>2</td>\n",
       "      <td>1</td>\n",
       "      <td>0</td>\n",
       "      <td>0</td>\n",
       "      <td>1</td>\n",
       "      <td>1</td>\n",
       "    </tr>\n",
       "    <tr>\n",
       "      <th>2</th>\n",
       "      <td>3</td>\n",
       "      <td>62</td>\n",
       "      <td>80</td>\n",
       "      <td>11.0</td>\n",
       "      <td>MODERATE</td>\n",
       "      <td>201.0</td>\n",
       "      <td>180.0</td>\n",
       "      <td>201.0</td>\n",
       "      <td>1.52</td>\n",
       "      <td>68.0</td>\n",
       "      <td>...</td>\n",
       "      <td>44.09</td>\n",
       "      <td>4</td>\n",
       "      <td>2</td>\n",
       "      <td>0</td>\n",
       "      <td>2</td>\n",
       "      <td>1</td>\n",
       "      <td>0</td>\n",
       "      <td>0</td>\n",
       "      <td>1</td>\n",
       "      <td>0</td>\n",
       "    </tr>\n",
       "    <tr>\n",
       "      <th>3</th>\n",
       "      <td>4</td>\n",
       "      <td>145</td>\n",
       "      <td>56</td>\n",
       "      <td>60.0</td>\n",
       "      <td>VERY SEVERE</td>\n",
       "      <td>210.0</td>\n",
       "      <td>210.0</td>\n",
       "      <td>210.0</td>\n",
       "      <td>0.47</td>\n",
       "      <td>14.0</td>\n",
       "      <td>...</td>\n",
       "      <td>62.04</td>\n",
       "      <td>1</td>\n",
       "      <td>4</td>\n",
       "      <td>1</td>\n",
       "      <td>2</td>\n",
       "      <td>0</td>\n",
       "      <td>0</td>\n",
       "      <td>1</td>\n",
       "      <td>1</td>\n",
       "      <td>0</td>\n",
       "    </tr>\n",
       "    <tr>\n",
       "      <th>4</th>\n",
       "      <td>5</td>\n",
       "      <td>136</td>\n",
       "      <td>65</td>\n",
       "      <td>68.0</td>\n",
       "      <td>SEVERE</td>\n",
       "      <td>204.0</td>\n",
       "      <td>210.0</td>\n",
       "      <td>210.0</td>\n",
       "      <td>1.07</td>\n",
       "      <td>42.0</td>\n",
       "      <td>...</td>\n",
       "      <td>75.56</td>\n",
       "      <td>1</td>\n",
       "      <td>3</td>\n",
       "      <td>1</td>\n",
       "      <td>2</td>\n",
       "      <td>0</td>\n",
       "      <td>1</td>\n",
       "      <td>1</td>\n",
       "      <td>0</td>\n",
       "      <td>0</td>\n",
       "    </tr>\n",
       "  </tbody>\n",
       "</table>\n",
       "<p>5 rows × 24 columns</p>\n",
       "</div>"
      ],
      "text/plain": [
       "   Unnamed: 0   ID  AGE  PackHistory COPDSEVERITY   MWT1   MWT2  MWT1Best  \\\n",
       "0           1   58   77         60.0       SEVERE  120.0  120.0     120.0   \n",
       "1           2   57   79         50.0     MODERATE  165.0  176.0     176.0   \n",
       "2           3   62   80         11.0     MODERATE  201.0  180.0     201.0   \n",
       "3           4  145   56         60.0  VERY SEVERE  210.0  210.0     210.0   \n",
       "4           5  136   65         68.0       SEVERE  204.0  210.0     210.0   \n",
       "\n",
       "   FEV1  FEV1PRED  ...   SGRQ  AGEquartiles  copd  gender  smoking  Diabetes  \\\n",
       "0  1.21      36.0  ...  69.55             4     3       1        2         1   \n",
       "1  1.09      56.0  ...  44.24             4     2       0        2         1   \n",
       "2  1.52      68.0  ...  44.09             4     2       0        2         1   \n",
       "3  0.47      14.0  ...  62.04             1     4       1        2         0   \n",
       "4  1.07      42.0  ...  75.56             1     3       1        2         0   \n",
       "\n",
       "   muscular  hypertension  AtrialFib  IHD  \n",
       "0         0             0          1    0  \n",
       "1         0             0          1    1  \n",
       "2         0             0          1    0  \n",
       "3         0             1          1    0  \n",
       "4         1             1          0    0  \n",
       "\n",
       "[5 rows x 24 columns]"
      ]
     },
     "execution_count": 8,
     "metadata": {},
     "output_type": "execute_result"
    }
   ],
   "source": [
    "copd.head()"
   ]
  },
  {
   "cell_type": "code",
   "execution_count": 9,
   "metadata": {},
   "outputs": [
    {
     "data": {
      "text/plain": [
       "array([[<matplotlib.axes._subplots.AxesSubplot object at 0x7f2cc8836d30>]],\n",
       "      dtype=object)"
      ]
     },
     "execution_count": 9,
     "metadata": {},
     "output_type": "execute_result"
    },
    {
     "data": {
      "image/png": "[encoded data removed]",
      "text/plain": [
       "<Figure size 792x396 with 1 Axes>"
      ]
     },
     "metadata": {
      "needs_background": "light"
     },
     "output_type": "display_data"
    }
   ],
   "source": [
    "copd[['SGRQ']].hist(figsize=(11,5.5))"
   ]
  },
  {
   "cell_type": "code",
   "execution_count": 11,
   "metadata": {},
   "outputs": [
    {
     "data": {
      "text/plain": [
       "<matplotlib.axes._subplots.AxesSubplot at 0x7f2cc8759128>"
      ]
     },
     "execution_count": 11,
     "metadata": {},
     "output_type": "execute_result"
    },
    {
     "data": {
      "image/png": "[encoded data removed]",
      "text/plain": [
       "<Figure size 432x288 with 1 Axes>"
      ]
     },
     "metadata": {
      "needs_background": "light"
     },
     "output_type": "display_data"
    }
   ],
   "source": [
    "copd.plot.scatter(x='AGE', y='CAT', color='Blue')"
   ]
  },
  {
   "cell_type": "markdown",
   "metadata": {},
   "source": [
    "\n",
    "\n",
    "---\n",
    "\n",
    "\n",
    "\n",
    "## Submitting Your Work\n",
    "\n",
    "Submit your work as usual."
   ]
  },
  {
   "cell_type": "code",
   "execution_count": null,
   "metadata": {},
   "outputs": [],
   "source": []
  }
 ],
 "metadata": {
  "celltoolbar": "Create Assignment",
  "kernelspec": {
   "display_name": "Python 3",
   "language": "python",
   "name": "python3"
  },
  "language_info": {
   "codemirror_mode": {
    "name": "ipython",
    "version": 3
   },
   "file_extension": ".py",
   "mimetype": "text/x-python",
   "name": "python",
   "nbconvert_exporter": "python",
   "pygments_lexer": "ipython3",
   "version": "3.6.7"
  }
 },
 "nbformat": 4,
 "nbformat_minor": 2
}
